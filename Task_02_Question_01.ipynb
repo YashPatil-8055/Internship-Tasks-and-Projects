{
 "cells": [
  {
   "cell_type": "markdown",
   "id": "65d4ac1f",
   "metadata": {},
   "source": [
    "# This is a file of Question 01 from Task 2"
   ]
  },
  {
   "cell_type": "markdown",
   "id": "cd39681c",
   "metadata": {},
   "source": [
    "Doing various Operations on a List"
   ]
  },
  {
   "cell_type": "code",
   "execution_count": 1,
   "id": "3e8673df",
   "metadata": {},
   "outputs": [
    {
     "name": "stdout",
     "output_type": "stream",
     "text": [
      "Original List: ['apple', 'banana', 'cherry', 'mango']\n"
     ]
    }
   ],
   "source": [
    "# Creating a list\n",
    "fruits = [\"apple\", \"banana\", \"cherry\", \"mango\"]\n",
    "print(\"Original List:\", fruits)"
   ]
  },
  {
   "cell_type": "code",
   "execution_count": 2,
   "id": "915e542a",
   "metadata": {},
   "outputs": [
    {
     "name": "stdout",
     "output_type": "stream",
     "text": [
      "After append(): ['apple', 'banana', 'cherry', 'mango', 'orange']\n"
     ]
    }
   ],
   "source": [
    "fruits.append(\"orange\")\n",
    "print(\"After append():\", fruits)"
   ]
  },
  {
   "cell_type": "code",
   "execution_count": 4,
   "id": "5ec0be87",
   "metadata": {},
   "outputs": [
    {
     "name": "stdout",
     "output_type": "stream",
     "text": [
      "After insert() at index 2: ['apple', 'banana', 'grapes', 'grape', 'cherry', 'mango', 'orange']\n"
     ]
    }
   ],
   "source": [
    "fruits.insert(2, \"grapes\")\n",
    "print(\"After insert() at index 2:\", fruits)"
   ]
  },
  {
   "cell_type": "code",
   "execution_count": 5,
   "id": "271c0204",
   "metadata": {},
   "outputs": [
    {
     "name": "stdout",
     "output_type": "stream",
     "text": [
      "After remove('banana'): ['apple', 'grapes', 'grape', 'cherry', 'mango', 'orange']\n"
     ]
    }
   ],
   "source": [
    "fruits.remove(\"banana\")\n",
    "print(\"After remove('banana'):\", fruits)"
   ]
  },
  {
   "cell_type": "code",
   "execution_count": 6,
   "id": "b14f6b01",
   "metadata": {},
   "outputs": [
    {
     "name": "stdout",
     "output_type": "stream",
     "text": [
      "After pop(): ['apple', 'grapes', 'grape', 'cherry', 'mango']\n",
      "Popped item: orange\n"
     ]
    }
   ],
   "source": [
    "last_item = fruits.pop()\n",
    "print(\"After pop():\", fruits)\n",
    "print(\"Popped item:\", last_item)"
   ]
  },
  {
   "cell_type": "code",
   "execution_count": 7,
   "id": "aafd8bce",
   "metadata": {},
   "outputs": [
    {
     "name": "stdout",
     "output_type": "stream",
     "text": [
      "Index of 'mango': 4\n"
     ]
    }
   ],
   "source": [
    "index = fruits.index(\"mango\")\n",
    "print(\"Index of 'mango':\", index)"
   ]
  },
  {
   "cell_type": "code",
   "execution_count": 8,
   "id": "e9f4690b",
   "metadata": {},
   "outputs": [
    {
     "name": "stdout",
     "output_type": "stream",
     "text": [
      "After sort(): ['apple', 'cherry', 'grape', 'grapes', 'mango']\n"
     ]
    }
   ],
   "source": [
    "fruits.sort()\n",
    "print(\"After sort():\", fruits)"
   ]
  },
  {
   "cell_type": "code",
   "execution_count": 9,
   "id": "eaea5b35",
   "metadata": {},
   "outputs": [
    {
     "name": "stdout",
     "output_type": "stream",
     "text": [
      "After reverse(): ['mango', 'grapes', 'grape', 'cherry', 'apple']\n"
     ]
    }
   ],
   "source": [
    "fruits.reverse()\n",
    "print(\"After reverse():\", fruits)"
   ]
  },
  {
   "cell_type": "code",
   "execution_count": 10,
   "id": "0b747545",
   "metadata": {},
   "outputs": [
    {
     "name": "stdout",
     "output_type": "stream",
     "text": [
      "Count of 'apple': 1\n"
     ]
    }
   ],
   "source": [
    "count = fruits.count(\"apple\")\n",
    "print(\"Count of 'apple':\", count)"
   ]
  },
  {
   "cell_type": "code",
   "execution_count": 11,
   "id": "864c5b1f",
   "metadata": {},
   "outputs": [
    {
     "name": "stdout",
     "output_type": "stream",
     "text": [
      "After extend(): ['mango', 'grapes', 'grape', 'cherry', 'apple', 'kiwi', 'papaya']\n"
     ]
    }
   ],
   "source": [
    "more_fruits = [\"kiwi\", \"papaya\"]\n",
    "fruits.extend(more_fruits)\n",
    "print(\"After extend():\", fruits)"
   ]
  },
  {
   "cell_type": "code",
   "execution_count": 14,
   "id": "8ac91d7c",
   "metadata": {},
   "outputs": [
    {
     "name": "stdout",
     "output_type": "stream",
     "text": [
      "Sliced list (index 1 to 4): ['grapes', 'grape', 'cherry', 'apple']\n"
     ]
    }
   ],
   "source": [
    "print(\"Sliced list (index 1 to 4):\", fruits[1:5])"
   ]
  }
 ],
 "metadata": {
  "kernelspec": {
   "display_name": "Python 3",
   "language": "python",
   "name": "python3"
  },
  "language_info": {
   "codemirror_mode": {
    "name": "ipython",
    "version": 3
   },
   "file_extension": ".py",
   "mimetype": "text/x-python",
   "name": "python",
   "nbconvert_exporter": "python",
   "pygments_lexer": "ipython3",
   "version": "3.13.5"
  }
 },
 "nbformat": 4,
 "nbformat_minor": 5
}
