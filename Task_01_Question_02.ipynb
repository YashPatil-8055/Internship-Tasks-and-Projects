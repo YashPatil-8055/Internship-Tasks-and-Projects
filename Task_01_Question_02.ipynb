{
 "cells": [
  {
   "cell_type": "markdown",
   "id": "95a726b1",
   "metadata": {},
   "source": [
    "# This is a file of Question 02 from Task 1"
   ]
  },
  {
   "cell_type": "markdown",
   "id": "547bc1cb",
   "metadata": {},
   "source": [
    "Assignment Operators"
   ]
  },
  {
   "cell_type": "code",
   "execution_count": 4,
   "id": "4d946e5b",
   "metadata": {},
   "outputs": [
    {
     "name": "stdout",
     "output_type": "stream",
     "text": [
      "Assignment Operators:\n",
      "Initial value of x is: 10\n",
      "After x += 5 : 15\n",
      "After x -= 3 : 7\n",
      "After x *= 2 : 20\n",
      "After x /= 4 : 2.5\n"
     ]
    }
   ],
   "source": [
    "print(\"Assignment Operators:\")\n",
    "x = 10\n",
    "print(\"Initial value of x is:\", x)\n",
    "x += 5   \n",
    "print(\"After x += 5 :\", x)\n",
    "\n",
    "x = 10\n",
    "x -= 3   \n",
    "print(\"After x -= 3 :\", x)\n",
    "\n",
    "x = 10\n",
    "x *= 2  \n",
    "print(\"After x *= 2 :\", x)\n",
    "\n",
    "x = 10\n",
    "x /= 4  \n",
    "print(\"After x /= 4 :\", x)"
   ]
  },
  {
   "cell_type": "markdown",
   "id": "2a82aa77",
   "metadata": {},
   "source": [
    "Arithmetic Operators"
   ]
  },
  {
   "cell_type": "code",
   "execution_count": 5,
   "id": "92204a3d",
   "metadata": {},
   "outputs": [
    {
     "name": "stdout",
     "output_type": "stream",
     "text": [
      "Arithmetic Operators:\n",
      "a = 18 , b = 4\n",
      "The Addition of a and b = 22\n",
      "The Subtraction of a and b = 14\n",
      "The Multiplication of a and b = 72\n",
      "The Division of a and b = 4.5\n",
      "The Modulus of a and b = 2\n"
     ]
    }
   ],
   "source": [
    "print(\"Arithmetic Operators:\")\n",
    "a = 18\n",
    "b = 4\n",
    "\n",
    "print(\"a =\", a, \", b =\", b)\n",
    "print(\"The Addition of a and b =\", a + b)\n",
    "print(\"The Subtraction of a and b =\", a - b)\n",
    "print(\"The Multiplication of a and b =\", a * b)\n",
    "print(\"The Division of a and b =\", a / b)\n",
    "print(\"The Modulus of a and b =\", a % b)"
   ]
  },
  {
   "cell_type": "markdown",
   "id": "fca3ade7",
   "metadata": {},
   "source": [
    "Comparison Operators"
   ]
  },
  {
   "cell_type": "code",
   "execution_count": 6,
   "id": "72be25b3",
   "metadata": {},
   "outputs": [
    {
     "name": "stdout",
     "output_type": "stream",
     "text": [
      "Comparison Operators:\n",
      "a = 7 , b = 5\n",
      "a == b: False\n",
      "a != b: True\n",
      "a > b: True\n",
      "a < b: False\n"
     ]
    }
   ],
   "source": [
    "print(\"Comparison Operators:\")\n",
    "a = 7\n",
    "b = 5\n",
    "\n",
    "print(\"a =\", a, \", b =\", b)\n",
    "print(\"a == b:\", a == b)\n",
    "print(\"a != b:\", a != b)\n",
    "print(\"a > b:\", a > b)\n",
    "print(\"a < b:\", a < b)"
   ]
  },
  {
   "cell_type": "markdown",
   "id": "7931147e",
   "metadata": {},
   "source": [
    "Bitwise Operators"
   ]
  },
  {
   "cell_type": "code",
   "execution_count": 8,
   "id": "65da734f",
   "metadata": {},
   "outputs": [
    {
     "name": "stdout",
     "output_type": "stream",
     "text": [
      "Bitwise Operators:\n",
      "a = 6 , b = 3\n",
      "a & b = 2\n",
      "a | b = 7\n",
      "a ^ b = 5\n",
      "a << 1 = 12\n",
      "a >> 1 = 3\n"
     ]
    }
   ],
   "source": [
    "print(\"Bitwise Operators:\")\n",
    "a = 6   # 0110\n",
    "b = 3   # 0011\n",
    "\n",
    "print(\"a =\", a, \", b =\", b)\n",
    "print(\"a & b =\", a & b)   # AND\n",
    "print(\"a | b =\", a | b)   # OR\n",
    "print(\"a ^ b =\", a ^ b)   # XOR\n",
    "print(\"a << 1 =\", a << 1) # Left shift\n",
    "print(\"a >> 1 =\", a >> 1) # Right shift"
   ]
  },
  {
   "cell_type": "markdown",
   "id": "5c5ee77b",
   "metadata": {},
   "source": [
    "Logical Operators"
   ]
  },
  {
   "cell_type": "code",
   "execution_count": 9,
   "id": "45732ef6",
   "metadata": {},
   "outputs": [
    {
     "name": "stdout",
     "output_type": "stream",
     "text": [
      "Logical Operators:\n",
      "a = True , b = False\n",
      "a and b: False\n",
      "a or b: True\n",
      "not a: False\n"
     ]
    }
   ],
   "source": [
    "print(\"Logical Operators:\")\n",
    "a = True\n",
    "b = False\n",
    "\n",
    "print(\"a =\", a, \", b =\", b)\n",
    "print(\"a and b:\", a and b)\n",
    "print(\"a or b:\", a or b)\n",
    "print(\"not a:\", not a)"
   ]
  }
 ],
 "metadata": {
  "kernelspec": {
   "display_name": "Python 3",
   "language": "python",
   "name": "python3"
  },
  "language_info": {
   "codemirror_mode": {
    "name": "ipython",
    "version": 3
   },
   "file_extension": ".py",
   "mimetype": "text/x-python",
   "name": "python",
   "nbconvert_exporter": "python",
   "pygments_lexer": "ipython3",
   "version": "3.13.5"
  }
 },
 "nbformat": 4,
 "nbformat_minor": 5
}
