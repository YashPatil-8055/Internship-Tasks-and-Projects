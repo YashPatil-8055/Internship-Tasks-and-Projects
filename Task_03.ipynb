{
 "cells": [
  {
   "cell_type": "markdown",
   "id": "8ab07d16",
   "metadata": {},
   "source": [
    "# This is a file of Task 3"
   ]
  },
  {
   "cell_type": "markdown",
   "id": "b104dc82",
   "metadata": {},
   "source": [
    "Doing various Operations using Numpy"
   ]
  },
  {
   "cell_type": "code",
   "execution_count": 4,
   "id": "50f731c4",
   "metadata": {},
   "outputs": [
    {
     "name": "stdout",
     "output_type": "stream",
     "text": [
      "1. arr1: [10 20 30 40 50]\n",
      "arr2: [5 4 3 2 1]\n"
     ]
    }
   ],
   "source": [
    "import numpy as np\n",
    "\n",
    "# 1. Creating 1D arrays\n",
    "arr1 = np.array([10, 20, 30, 40, 50])\n",
    "arr2 = np.array([5, 4, 3, 2, 1])\n",
    "print(\"1. arr1:\", arr1)\n",
    "print(\"arr2:\", arr2)"
   ]
  },
  {
   "cell_type": "code",
   "execution_count": 3,
   "id": "b2e63ea7",
   "metadata": {},
   "outputs": [
    {
     "name": "stdout",
     "output_type": "stream",
     "text": [
      "2. 2D array arr3:\n",
      " [[1 2 3]\n",
      " [4 5 6]]\n"
     ]
    }
   ],
   "source": [
    "# 2. Creating 2D array\n",
    "arr3 = np.array([[1, 2, 3], [4, 5, 6]])\n",
    "print(\"2. 2D array arr3:\\n\", arr3)"
   ]
  },
  {
   "cell_type": "code",
   "execution_count": 5,
   "id": "9632ecbe",
   "metadata": {},
   "outputs": [
    {
     "name": "stdout",
     "output_type": "stream",
     "text": [
      "3. Shape of arr3: (2, 3)\n"
     ]
    }
   ],
   "source": [
    "# 3. Shape of array\n",
    "print(\"3. Shape of arr3:\", arr3.shape)"
   ]
  },
  {
   "cell_type": "code",
   "execution_count": 6,
   "id": "5c5b553a",
   "metadata": {},
   "outputs": [
    {
     "name": "stdout",
     "output_type": "stream",
     "text": [
      "4. Size of arr1: 5\n"
     ]
    }
   ],
   "source": [
    "# 4. Size of array\n",
    "print(\"4. Size of arr1:\", arr1.size)"
   ]
  },
  {
   "cell_type": "code",
   "execution_count": 8,
   "id": "90bff80b",
   "metadata": {},
   "outputs": [
    {
     "name": "stdout",
     "output_type": "stream",
     "text": [
      "5. arr1 reshaped to (5,1):\n",
      " [[10]\n",
      " [20]\n",
      " [30]\n",
      " [40]\n",
      " [50]]\n"
     ]
    }
   ],
   "source": [
    "# 5. Reshaping arr1 to 5x1\n",
    "arr1_reshaped = arr1.reshape((5,1))\n",
    "print(\"5. arr1 reshaped to (5,1):\\n\", arr1_reshaped)"
   ]
  },
  {
   "cell_type": "code",
   "execution_count": 9,
   "id": "d8a6b7c7",
   "metadata": {},
   "outputs": [
    {
     "name": "stdout",
     "output_type": "stream",
     "text": [
      "6. Element at arr3[1,2]: 6\n"
     ]
    }
   ],
   "source": [
    "# 6. Access element\n",
    "print(\"6. Element at arr3[1,2]:\", arr3[1,2])"
   ]
  },
  {
   "cell_type": "code",
   "execution_count": 10,
   "id": "87d40b0b",
   "metadata": {},
   "outputs": [
    {
     "name": "stdout",
     "output_type": "stream",
     "text": [
      "7. Slice arr1 first 3 elements: [10 20 30]\n"
     ]
    }
   ],
   "source": [
    "# 7. Slicing\n",
    "print(\"7. Slice arr1 first 3 elements:\", arr1[:3])"
   ]
  },
  {
   "cell_type": "code",
   "execution_count": 11,
   "id": "e4cd5aff",
   "metadata": {},
   "outputs": [
    {
     "name": "stdout",
     "output_type": "stream",
     "text": [
      "8. arr1 + arr2 = [15 24 33 42 51]\n"
     ]
    }
   ],
   "source": [
    "# 8. Arithmetic operations (addition)\n",
    "print(\"8. arr1 + arr2 =\", arr1 + arr2)"
   ]
  },
  {
   "cell_type": "code",
   "execution_count": 12,
   "id": "24dd5a8b",
   "metadata": {},
   "outputs": [
    {
     "name": "stdout",
     "output_type": "stream",
     "text": [
      "9. arr1 * arr2 = [50 80 90 80 50]\n"
     ]
    }
   ],
   "source": [
    "# 9. Arithmetic operations (multiplication)\n",
    "print(\"9. arr1 * arr2 =\", arr1 * arr2)"
   ]
  },
  {
   "cell_type": "code",
   "execution_count": 13,
   "id": "f07a4a46",
   "metadata": {},
   "outputs": [
    {
     "name": "stdout",
     "output_type": "stream",
     "text": [
      "10. arr1 + 100 = [110 120 130 140 150]\n"
     ]
    }
   ],
   "source": [
    "# 10. Broadcasting (arr1 + scalar)\n",
    "print(\"10. arr1 + 100 =\", arr1 + 100)"
   ]
  },
  {
   "cell_type": "code",
   "execution_count": 15,
   "id": "fcfda6bf",
   "metadata": {},
   "outputs": [
    {
     "name": "stdout",
     "output_type": "stream",
     "text": [
      "11. Sum of arr1: 150\n"
     ]
    }
   ],
   "source": [
    "# 11. Sum of arr1\n",
    "print(\"11. Sum of arr1:\", np.sum(arr1))"
   ]
  },
  {
   "cell_type": "code",
   "execution_count": 16,
   "id": "4b7b610a",
   "metadata": {},
   "outputs": [
    {
     "name": "stdout",
     "output_type": "stream",
     "text": [
      "12. Mean of arr2: 3.0\n"
     ]
    }
   ],
   "source": [
    "# 12. Mean of arr2\n",
    "print(\"12. Mean of arr2:\", np.mean(arr2))"
   ]
  },
  {
   "cell_type": "code",
   "execution_count": 18,
   "id": "f2ce3c44",
   "metadata": {},
   "outputs": [
    {
     "name": "stdout",
     "output_type": "stream",
     "text": [
      "13. Median of arr1: 30.0\n"
     ]
    }
   ],
   "source": [
    "# 13. Median of arr1\n",
    "print(\"13. Median of arr1:\", np.median(arr1))"
   ]
  },
  {
   "cell_type": "code",
   "execution_count": 19,
   "id": "5967e741",
   "metadata": {},
   "outputs": [
    {
     "name": "stdout",
     "output_type": "stream",
     "text": [
      "14. Standard deviation of arr1: 14.142135623730951\n"
     ]
    }
   ],
   "source": [
    "# 14. Standard deviation\n",
    "print(\"14. Standard deviation of arr1:\", np.std(arr1))"
   ]
  },
  {
   "cell_type": "code",
   "execution_count": 21,
   "id": "eb139e43",
   "metadata": {},
   "outputs": [
    {
     "name": "stdout",
     "output_type": "stream",
     "text": [
      "15. Sorted arr2: [1 2 3 4 5]\n"
     ]
    }
   ],
   "source": [
    "# 15. Sort arr2\n",
    "print(\"15. Sorted arr2:\", np.sort(arr2))"
   ]
  },
  {
   "cell_type": "code",
   "execution_count": 22,
   "id": "9eeef2c4",
   "metadata": {},
   "outputs": [
    {
     "name": "stdout",
     "output_type": "stream",
     "text": [
      "16. Transpose of arr3:\n",
      " [[1 4]\n",
      " [2 5]\n",
      " [3 6]]\n"
     ]
    }
   ],
   "source": [
    "# 16. Transpose of arr3\n",
    "print(\"16. Transpose of arr3:\\n\", arr3.T)"
   ]
  },
  {
   "cell_type": "code",
   "execution_count": 23,
   "id": "3c775b95",
   "metadata": {},
   "outputs": [
    {
     "name": "stdout",
     "output_type": "stream",
     "text": [
      "27. Zeros array (2x3):\n",
      " [[0. 0. 0.]\n",
      " [0. 0. 0.]]\n"
     ]
    }
   ],
   "source": [
    "# 17. Create zeros array\n",
    "zeros_arr = np.zeros((2,3))\n",
    "print(\"27. Zeros array (2x3):\\n\", zeros_arr)"
   ]
  },
  {
   "cell_type": "code",
   "execution_count": 25,
   "id": "c4b279ef",
   "metadata": {},
   "outputs": [
    {
     "name": "stdout",
     "output_type": "stream",
     "text": [
      "18. Identity matrix (3x3):\n",
      " [[1. 0. 0.]\n",
      " [0. 1. 0.]\n",
      " [0. 0. 1.]]\n"
     ]
    }
   ],
   "source": [
    "# 18. Create identity matrix\n",
    "identity = np.eye(3)\n",
    "print(\"18. Identity matrix (3x3):\\n\", identity)"
   ]
  }
 ],
 "metadata": {
  "kernelspec": {
   "display_name": "Python 3",
   "language": "python",
   "name": "python3"
  },
  "language_info": {
   "codemirror_mode": {
    "name": "ipython",
    "version": 3
   },
   "file_extension": ".py",
   "mimetype": "text/x-python",
   "name": "python",
   "nbconvert_exporter": "python",
   "pygments_lexer": "ipython3",
   "version": "3.13.5"
  }
 },
 "nbformat": 4,
 "nbformat_minor": 5
}
