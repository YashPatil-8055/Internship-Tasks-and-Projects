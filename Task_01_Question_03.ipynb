{
 "cells": [
  {
   "cell_type": "markdown",
   "id": "37b8ac1d",
   "metadata": {},
   "source": [
    "# This is a file of Question 03 from Task 1"
   ]
  },
  {
   "cell_type": "markdown",
   "id": "4160853f",
   "metadata": {},
   "source": [
    "Various functions for doing multiple operations on String"
   ]
  },
  {
   "cell_type": "code",
   "execution_count": 3,
   "id": "15a18190",
   "metadata": {},
   "outputs": [
    {
     "name": "stdout",
     "output_type": "stream",
     "text": [
      "After strip(): Hello, Python World!\n"
     ]
    }
   ],
   "source": [
    "# Original string\n",
    "String_with_extra_spaces = \"  Hello, Python World!  \"\n",
    "\n",
    "String = String_with_extra_spaces.strip()\n",
    "print(\"After strip():\",String)"
   ]
  },
  {
   "cell_type": "code",
   "execution_count": 4,
   "id": "39879fe6",
   "metadata": {},
   "outputs": [
    {
     "name": "stdout",
     "output_type": "stream",
     "text": [
      "Lowercase: hello, python world!\n"
     ]
    }
   ],
   "source": [
    "print(\"Lowercase:\", String.lower())"
   ]
  },
  {
   "cell_type": "code",
   "execution_count": 5,
   "id": "1dad54cb",
   "metadata": {},
   "outputs": [
    {
     "name": "stdout",
     "output_type": "stream",
     "text": [
      "Uppercase: HELLO, PYTHON WORLD!\n"
     ]
    }
   ],
   "source": [
    "print(\"Uppercase:\", String.upper())"
   ]
  },
  {
   "cell_type": "code",
   "execution_count": 6,
   "id": "a8462b94",
   "metadata": {},
   "outputs": [
    {
     "name": "stdout",
     "output_type": "stream",
     "text": [
      "Title case: Hello, Python World!\n"
     ]
    }
   ],
   "source": [
    "print(\"Title case:\", String.title())"
   ]
  },
  {
   "cell_type": "code",
   "execution_count": 7,
   "id": "a03e4d0c",
   "metadata": {},
   "outputs": [
    {
     "name": "stdout",
     "output_type": "stream",
     "text": [
      "Replacing 'Python' with 'Programming': Hello, Programming World!\n"
     ]
    }
   ],
   "source": [
    "print(\"Replacing 'Python' with 'Programming':\", String.replace(\"Python\", \"Programming\"))"
   ]
  },
  {
   "cell_type": "code",
   "execution_count": 8,
   "id": "5575f29e",
   "metadata": {},
   "outputs": [
    {
     "name": "stdout",
     "output_type": "stream",
     "text": [
      "Split into words: ['Hello,', 'Python', 'World!']\n"
     ]
    }
   ],
   "source": [
    "words = String.split()\n",
    "print(\"Split into words:\", words)"
   ]
  },
  {
   "cell_type": "code",
   "execution_count": 9,
   "id": "3acbd4ad",
   "metadata": {},
   "outputs": [
    {
     "name": "stdout",
     "output_type": "stream",
     "text": [
      "Joined with hyphen: Hello,-Python-World!\n"
     ]
    }
   ],
   "source": [
    "joined = \"-\".join(words)\n",
    "print(\"Joined with hyphen:\", joined)"
   ]
  },
  {
   "cell_type": "code",
   "execution_count": 10,
   "id": "fb537493",
   "metadata": {},
   "outputs": [
    {
     "name": "stdout",
     "output_type": "stream",
     "text": [
      "Count of 'l': 3\n"
     ]
    }
   ],
   "source": [
    "print(\"Count of 'l':\", String.count('l'))"
   ]
  },
  {
   "cell_type": "code",
   "execution_count": 11,
   "id": "2a45b922",
   "metadata": {},
   "outputs": [
    {
     "name": "stdout",
     "output_type": "stream",
     "text": [
      "Position of 'Python': 7\n"
     ]
    }
   ],
   "source": [
    "print(\"Position of 'Python':\", String.find('Python'))"
   ]
  },
  {
   "cell_type": "code",
   "execution_count": 12,
   "id": "60976180",
   "metadata": {},
   "outputs": [
    {
     "name": "stdout",
     "output_type": "stream",
     "text": [
      "Length of the string: 20\n"
     ]
    }
   ],
   "source": [
    "print(\"Length of the string:\", len(String))"
   ]
  },
  {
   "cell_type": "code",
   "execution_count": 13,
   "id": "7d3414d8",
   "metadata": {},
   "outputs": [
    {
     "name": "stdout",
     "output_type": "stream",
     "text": [
      "Starts with 'Hello': True\n"
     ]
    }
   ],
   "source": [
    "print(\"Starts with 'Hello':\", String.startswith(\"Hello\"))"
   ]
  },
  {
   "cell_type": "code",
   "execution_count": 14,
   "id": "1da44558",
   "metadata": {},
   "outputs": [
    {
     "name": "stdout",
     "output_type": "stream",
     "text": [
      "Ends with 'World!': True\n"
     ]
    }
   ],
   "source": [
    "print(\"Ends with 'World!':\", String.endswith(\"World!\"))"
   ]
  },
  {
   "cell_type": "code",
   "execution_count": 18,
   "id": "4c3560c4",
   "metadata": {},
   "outputs": [
    {
     "name": "stdout",
     "output_type": "stream",
     "text": [
      "'Hello' is alpha: True\n",
      "Whole sentence is alpha: False\n"
     ]
    }
   ],
   "source": [
    "print(\"'Hello' is alpha:\", \"Hello\".isalpha())\n",
    "print(\"Whole sentence is alpha:\", String.isalpha())"
   ]
  },
  {
   "cell_type": "code",
   "execution_count": 19,
   "id": "f26a6a8f",
   "metadata": {},
   "outputs": [
    {
     "name": "stdout",
     "output_type": "stream",
     "text": [
      "'12345' is digit: True\n",
      "'123abc' is digit: False\n"
     ]
    }
   ],
   "source": [
    "print(\"'12345' is digit:\", \"12345\".isdigit())\n",
    "print(\"'123abc' is digit:\", \"123abc\".isdigit())"
   ]
  }
 ],
 "metadata": {
  "kernelspec": {
   "display_name": "Python 3",
   "language": "python",
   "name": "python3"
  },
  "language_info": {
   "codemirror_mode": {
    "name": "ipython",
    "version": 3
   },
   "file_extension": ".py",
   "mimetype": "text/x-python",
   "name": "python",
   "nbconvert_exporter": "python",
   "pygments_lexer": "ipython3",
   "version": "3.13.5"
  }
 },
 "nbformat": 4,
 "nbformat_minor": 5
}
