{
 "cells": [
  {
   "cell_type": "markdown",
   "id": "c9aa9e48",
   "metadata": {},
   "source": [
    "# This is a file of Question 01 from Task 1"
   ]
  },
  {
   "cell_type": "code",
   "execution_count": null,
   "id": "a78464c2",
   "metadata": {},
   "outputs": [
    {
     "name": "stdout",
     "output_type": "stream",
     "text": [
      "Writing to 'Task_01_Question_01.txt'\n"
     ]
    }
   ],
   "source": [
    "import os\n",
    "\n",
    "# Writing to a file Task_01_Question_01\n",
    "print(\"Writing to 'Task_01_Question_01.txt'\")\n",
    "file = open(\"Task_01_Question_01.txt\", \"w\")\n",
    "file.write(\"Line 1: Welcome to File Handling in Python.\\n\")\n",
    "file.write(\"Line 2: Let's learn how to handle files.\\n\")\n",
    "file.close()"
   ]
  },
  {
   "cell_type": "code",
   "execution_count": 4,
   "id": "ed477ad7",
   "metadata": {},
   "outputs": [
    {
     "name": "stdout",
     "output_type": "stream",
     "text": [
      "\n",
      "Appending a line to 'Task_01_Question_01.txt'\n"
     ]
    }
   ],
   "source": [
    "# Appending content to the same file Task_01_Question_01\n",
    "print(\"\\nAppending a line to 'Task_01_Question_01.txt'\")\n",
    "file = open(\"Task_01_Question_01.txt\", \"a\")\n",
    "file.write(\"Line 3: This line is appended.\\n\")\n",
    "file.close()"
   ]
  },
  {
   "cell_type": "code",
   "execution_count": 5,
   "id": "b27d0b84",
   "metadata": {},
   "outputs": [
    {
     "name": "stdout",
     "output_type": "stream",
     "text": [
      "\n",
      "Reading full content using read():\n",
      "Line 1: Welcome to File Handling in Python.\n",
      "Line 2: Let's learn how to handle files.\n",
      "Line 3: This line is appended.\n",
      "\n"
     ]
    }
   ],
   "source": [
    "# Reading full content of file Task_01_Question_01 using read()\n",
    "print(\"\\nReading full content using read():\")\n",
    "file = open(\"Task_01_Question_01.txt\", \"r\")\n",
    "print(file.read())\n",
    "file.close()"
   ]
  },
  {
   "cell_type": "code",
   "execution_count": 9,
   "id": "09dfc1d1",
   "metadata": {},
   "outputs": [
    {
     "name": "stdout",
     "output_type": "stream",
     "text": [
      "Reading first line using readline():\n",
      "Line 1: Welcome to File Handling in Python.\n",
      "\n"
     ]
    }
   ],
   "source": [
    "\n",
    "# Reading line-by-line using of file Task_01_Question_01 readline()\n",
    "print(\"Reading first line using readline():\")\n",
    "file = open(\"Task_01_Question_01.txt\", \"r\")\n",
    "print(file.readline())\n",
    "file.close()"
   ]
  },
  {
   "cell_type": "code",
   "execution_count": 11,
   "id": "a401516e",
   "metadata": {},
   "outputs": [
    {
     "name": "stdout",
     "output_type": "stream",
     "text": [
      "Reading all lines using readlines():\n",
      "['Line 1: Welcome to File Handling in Python.\\n', \"Line 2: Let's learn how to handle files.\\n\", 'Line 3: This line is appended.\\n']\n"
     ]
    }
   ],
   "source": [
    "# Reading all lines of file Task_01_Question_01 using readlines()\n",
    "print(\"Reading all lines using readlines():\")\n",
    "file = open(\"Task_01_Question_01.txt\", \"r\")\n",
    "lines = file.readlines()\n",
    "print(lines)\n",
    "file.close()"
   ]
  },
  {
   "cell_type": "code",
   "execution_count": 14,
   "id": "5b61f871",
   "metadata": {},
   "outputs": [
    {
     "name": "stdout",
     "output_type": "stream",
     "text": [
      "\n",
      "Reading using 'with open':\n",
      "Line 1: Welcome to File Handling in Python.\n",
      "Line 2: Let's learn how to handle files.\n",
      "Line 3: This line is appended.\n",
      "\n"
     ]
    }
   ],
   "source": [
    "# Using 'with' statement\n",
    "print(\"\\nReading using 'with open':\")\n",
    "with open(\"Task_01_Question_01.txt\", \"r\") as file:\n",
    "    content = file.read()\n",
    "    print(content)"
   ]
  },
  {
   "cell_type": "code",
   "execution_count": 15,
   "id": "76872414",
   "metadata": {},
   "outputs": [
    {
     "name": "stdout",
     "output_type": "stream",
     "text": [
      "Checking if 'Task_01_Question_01.txt' exists:\n",
      "Yes, 'Task_01_Question_01.txt' exists.\n"
     ]
    }
   ],
   "source": [
    "# Check that the file exists or not\n",
    "print(\"Checking if 'Task_01_Question_01.txt' exists:\")\n",
    "if os.path.exists(\"Task_01_Question_01.txt\"):\n",
    "    print(\"Yes, 'Task_01_Question_01.txt' exists.\")\n",
    "else:\n",
    "    print(\"No, 'Task_01_Question_01.txt' not found.\")\n"
   ]
  },
  {
   "cell_type": "code",
   "execution_count": 16,
   "id": "32de6e3c",
   "metadata": {},
   "outputs": [
    {
     "name": "stdout",
     "output_type": "stream",
     "text": [
      "\n",
      "Deleting 'Task_01_Question_01.txt'\n",
      "'Task_01_Question_01.txt' deleted.\n"
     ]
    }
   ],
   "source": [
    "print(\"\\nDeleting 'Task_01_Question_01.txt'\")\n",
    "if os.path.exists(\"Task_01_Question_01.txt\"):\n",
    "    os.remove(\"Task_01_Question_01.txt\")\n",
    "    print(\"'Task_01_Question_01.txt' deleted.\")\n",
    "else:\n",
    "    print(\"'Task_01_Question_01.txt' does not exist.\")"
   ]
  }
 ],
 "metadata": {
  "kernelspec": {
   "display_name": "Python 3",
   "language": "python",
   "name": "python3"
  },
  "language_info": {
   "codemirror_mode": {
    "name": "ipython",
    "version": 3
   },
   "file_extension": ".py",
   "mimetype": "text/x-python",
   "name": "python",
   "nbconvert_exporter": "python",
   "pygments_lexer": "ipython3",
   "version": "3.13.5"
  }
 },
 "nbformat": 4,
 "nbformat_minor": 5
}
