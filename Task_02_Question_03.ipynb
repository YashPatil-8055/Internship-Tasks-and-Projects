{
 "cells": [
  {
   "cell_type": "markdown",
   "id": "4e11adfa",
   "metadata": {},
   "source": [
    "# This is a file of Question 03 from Task 2"
   ]
  },
  {
   "cell_type": "markdown",
   "id": "033190d0",
   "metadata": {},
   "source": [
    "Doing various Operations on a Set"
   ]
  },
  {
   "cell_type": "code",
   "execution_count": 1,
   "id": "201ba2de",
   "metadata": {},
   "outputs": [
    {
     "name": "stdout",
     "output_type": "stream",
     "text": [
      "Set 1: {1, 2, 3, 4, 5}\n",
      "Set 2: {4, 5, 6, 7}\n"
     ]
    }
   ],
   "source": [
    "# Creating two sets\n",
    "set1 = {1, 2, 3, 4, 5}\n",
    "set2 = {4, 5, 6, 7}\n",
    "\n",
    "print(\"Set 1:\", set1)\n",
    "print(\"Set 2:\", set2)"
   ]
  },
  {
   "cell_type": "code",
   "execution_count": 2,
   "id": "90614204",
   "metadata": {},
   "outputs": [
    {
     "name": "stdout",
     "output_type": "stream",
     "text": [
      "After add(10) to set1: {1, 2, 3, 4, 5, 10}\n"
     ]
    }
   ],
   "source": [
    "set1.add(10)\n",
    "print(\"After add(10) to set1:\", set1)"
   ]
  },
  {
   "cell_type": "code",
   "execution_count": 3,
   "id": "ada1188a",
   "metadata": {},
   "outputs": [
    {
     "name": "stdout",
     "output_type": "stream",
     "text": [
      "After remove(2) from set1: {1, 3, 4, 5, 10}\n"
     ]
    }
   ],
   "source": [
    "set1.remove(2) \n",
    "print(\"After remove(2) from set1:\", set1)"
   ]
  },
  {
   "cell_type": "code",
   "execution_count": 4,
   "id": "3f034c9a",
   "metadata": {},
   "outputs": [
    {
     "name": "stdout",
     "output_type": "stream",
     "text": [
      "After discard(100): {1, 3, 4, 5, 10}\n"
     ]
    }
   ],
   "source": [
    "set1.discard(100) # if element not found, does not throw error\n",
    "print(\"After discard(100):\", set1)"
   ]
  },
  {
   "cell_type": "code",
   "execution_count": 5,
   "id": "7dda577d",
   "metadata": {},
   "outputs": [
    {
     "name": "stdout",
     "output_type": "stream",
     "text": [
      "Union of sets: {1, 3, 4, 5, 6, 7, 10}\n"
     ]
    }
   ],
   "source": [
    "print(\"Union of sets:\", set1.union(set2))"
   ]
  },
  {
   "cell_type": "code",
   "execution_count": 6,
   "id": "c4e71f01",
   "metadata": {},
   "outputs": [
    {
     "name": "stdout",
     "output_type": "stream",
     "text": [
      "Intersection of sets: {4, 5}\n"
     ]
    }
   ],
   "source": [
    "print(\"Intersection of sets:\", set1.intersection(set2))"
   ]
  },
  {
   "cell_type": "code",
   "execution_count": 7,
   "id": "10b9ab52",
   "metadata": {},
   "outputs": [
    {
     "name": "stdout",
     "output_type": "stream",
     "text": [
      "Difference (set1 - set2): {1, 10, 3}\n"
     ]
    }
   ],
   "source": [
    "print(\"Difference (set1 - set2):\", set1.difference(set2))"
   ]
  },
  {
   "cell_type": "code",
   "execution_count": 8,
   "id": "eea6a7ce",
   "metadata": {},
   "outputs": [
    {
     "name": "stdout",
     "output_type": "stream",
     "text": [
      "Symmetric Difference: {1, 3, 6, 7, 10}\n"
     ]
    }
   ],
   "source": [
    "print(\"Symmetric Difference:\", set1.symmetric_difference(set2))"
   ]
  },
  {
   "cell_type": "code",
   "execution_count": 9,
   "id": "b8554051",
   "metadata": {},
   "outputs": [
    {
     "name": "stdout",
     "output_type": "stream",
     "text": [
      "Is 3 in set1? True\n"
     ]
    }
   ],
   "source": [
    "print(\"Is 3 in set1?\", 3 in set1)"
   ]
  },
  {
   "cell_type": "code",
   "execution_count": 11,
   "id": "d91b4e9e",
   "metadata": {},
   "outputs": [
    {
     "name": "stdout",
     "output_type": "stream",
     "text": [
      "Items in set1:\n",
      "1\n",
      "3\n",
      "4\n",
      "5\n",
      "10\n"
     ]
    }
   ],
   "source": [
    "print(\"Items in set1:\")\n",
    "for item in set1:\n",
    "    print(item)"
   ]
  }
 ],
 "metadata": {
  "kernelspec": {
   "display_name": "Python 3",
   "language": "python",
   "name": "python3"
  },
  "language_info": {
   "codemirror_mode": {
    "name": "ipython",
    "version": 3
   },
   "file_extension": ".py",
   "mimetype": "text/x-python",
   "name": "python",
   "nbconvert_exporter": "python",
   "pygments_lexer": "ipython3",
   "version": "3.13.5"
  }
 },
 "nbformat": 4,
 "nbformat_minor": 5
}
