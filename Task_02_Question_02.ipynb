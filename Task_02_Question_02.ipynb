{
 "cells": [
  {
   "cell_type": "markdown",
   "id": "63c15dd5",
   "metadata": {},
   "source": [
    "# This is a file of Question 02 from Task 2"
   ]
  },
  {
   "cell_type": "markdown",
   "id": "a9dc8a83",
   "metadata": {},
   "source": [
    "Doing various Operations on a Tuple"
   ]
  },
  {
   "cell_type": "code",
   "execution_count": 1,
   "id": "c0b84bb1",
   "metadata": {},
   "outputs": [
    {
     "name": "stdout",
     "output_type": "stream",
     "text": [
      "Original Tuple: ('apple', 'banana', 'cherry', 'banana', 'apple')\n"
     ]
    }
   ],
   "source": [
    "my_tuple = (\"apple\", \"banana\", \"cherry\", \"banana\", \"apple\")\n",
    "print(\"Original Tuple:\", my_tuple)"
   ]
  },
  {
   "cell_type": "code",
   "execution_count": 2,
   "id": "b258cafb",
   "metadata": {},
   "outputs": [
    {
     "name": "stdout",
     "output_type": "stream",
     "text": [
      "First item: apple\n",
      "Last item: apple\n"
     ]
    }
   ],
   "source": [
    "print(\"First item:\", my_tuple[0])\n",
    "print(\"Last item:\", my_tuple[-1])"
   ]
  },
  {
   "cell_type": "code",
   "execution_count": 3,
   "id": "9889410f",
   "metadata": {},
   "outputs": [
    {
     "name": "stdout",
     "output_type": "stream",
     "text": [
      "Slice from index 1 to 3: ('banana', 'cherry', 'banana')\n"
     ]
    }
   ],
   "source": [
    "print(\"Slice from index 1 to 3:\", my_tuple[1:4])"
   ]
  },
  {
   "cell_type": "code",
   "execution_count": 4,
   "id": "b0b47d29",
   "metadata": {},
   "outputs": [
    {
     "name": "stdout",
     "output_type": "stream",
     "text": [
      "Count of 'banana': 2\n"
     ]
    }
   ],
   "source": [
    "print(\"Count of 'banana':\", my_tuple.count(\"banana\"))"
   ]
  },
  {
   "cell_type": "code",
   "execution_count": 6,
   "id": "a0bf7cdf",
   "metadata": {},
   "outputs": [
    {
     "name": "stdout",
     "output_type": "stream",
     "text": [
      "Index of 'cherry': 2\n"
     ]
    }
   ],
   "source": [
    "print(\"Index of 'cherry':\", my_tuple.index(\"cherry\"))"
   ]
  },
  {
   "cell_type": "code",
   "execution_count": 7,
   "id": "e818aaa0",
   "metadata": {},
   "outputs": [
    {
     "name": "stdout",
     "output_type": "stream",
     "text": [
      "Length of tuple: 5\n"
     ]
    }
   ],
   "source": [
    "print(\"Length of tuple:\", len(my_tuple))"
   ]
  },
  {
   "cell_type": "code",
   "execution_count": 10,
   "id": "ed5bc8cd",
   "metadata": {},
   "outputs": [
    {
     "name": "stdout",
     "output_type": "stream",
     "text": [
      "Looping through tuple:\n",
      "apple\n",
      "banana\n",
      "cherry\n",
      "banana\n",
      "apple\n"
     ]
    }
   ],
   "source": [
    "print(\"Looping through tuple:\")\n",
    "for item in my_tuple:\n",
    "    print(item)"
   ]
  },
  {
   "cell_type": "code",
   "execution_count": 11,
   "id": "220ce197",
   "metadata": {},
   "outputs": [
    {
     "name": "stdout",
     "output_type": "stream",
     "text": [
      "Modified list (after append/remove): ['apple', 'cherry', 'banana', 'apple', 'kiwi']\n"
     ]
    }
   ],
   "source": [
    "temp_list = list(my_tuple)\n",
    "temp_list.append(\"kiwi\")\n",
    "temp_list.remove(\"banana\")\n",
    "print(\"Modified list (after append/remove):\", temp_list)"
   ]
  },
  {
   "cell_type": "code",
   "execution_count": 15,
   "id": "9bafdffc",
   "metadata": {},
   "outputs": [
    {
     "name": "stdout",
     "output_type": "stream",
     "text": [
      "New Tuple after modifications: ('apple', 'cherry', 'banana', 'apple', 'kiwi')\n"
     ]
    }
   ],
   "source": [
    "new_tuple = tuple(temp_list)\n",
    "print(\"New Tuple after modifications:\", new_tuple)"
   ]
  }
 ],
 "metadata": {
  "kernelspec": {
   "display_name": "Python 3",
   "language": "python",
   "name": "python3"
  },
  "language_info": {
   "codemirror_mode": {
    "name": "ipython",
    "version": 3
   },
   "file_extension": ".py",
   "mimetype": "text/x-python",
   "name": "python",
   "nbconvert_exporter": "python",
   "pygments_lexer": "ipython3",
   "version": "3.13.5"
  }
 },
 "nbformat": 4,
 "nbformat_minor": 5
}
